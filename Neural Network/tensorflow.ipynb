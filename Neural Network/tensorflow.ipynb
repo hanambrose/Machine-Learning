{
  "nbformat": 4,
  "nbformat_minor": 0,
  "metadata": {
    "kernelspec": {
      "display_name": "Python 3",
      "language": "python",
      "name": "python3"
    },
    "language_info": {
      "codemirror_mode": {
        "name": "ipython",
        "version": 3
      },
      "file_extension": ".py",
      "mimetype": "text/x-python",
      "name": "python",
      "nbconvert_exporter": "python",
      "pygments_lexer": "ipython3",
      "version": "3.7.1"
    },
    "colab": {
      "name": "tensorflow.ipynb",
      "provenance": [],
      "collapsed_sections": []
    }
  },
  "cells": [
    {
      "cell_type": "code",
      "metadata": {
        "id": "HwfDeEiPJkOs",
        "colab_type": "code",
        "colab": {
          "base_uri": "https://localhost:8080/",
          "height": 35
        },
        "outputId": "0499e8da-12d6-4a89-f4a0-8494f93c625d"
      },
      "source": [
        "import numpy as np\n",
        "import tensorflow as tf\n",
        "from tensorflow import keras\n",
        "\n",
        "from google.colab import drive\n",
        "import os\n",
        "#mount your Google drive into this notebook\n",
        "drive.mount('/content/gdrive')\n",
        "#find the path to your Google drive root\n",
        "os.getcwd()+\"/gdrive/My Drive\"\n",
        "path = os.chdir('/content/gdrive/My Drive/Colab Notebooks/Machine Learning/HW5')"
      ],
      "execution_count": 58,
      "outputs": [
        {
          "output_type": "stream",
          "text": [
            "Drive already mounted at /content/gdrive; to attempt to forcibly remount, call drive.mount(\"/content/gdrive\", force_remount=True).\n"
          ],
          "name": "stdout"
        }
      ]
    },
    {
      "cell_type": "code",
      "metadata": {
        "id": "wnOMHzgtLHUS",
        "colab_type": "code",
        "colab": {
          "base_uri": "https://localhost:8080/",
          "height": 52
        },
        "outputId": "91b2bfdd-3c5c-4080-813e-3c373a40c208"
      },
      "source": [
        "def read_csv(file):\n",
        "  data = list()\n",
        "  with open(file, 'r') as f:\n",
        "    for line in f:\n",
        "      data.append(line.strip().split(',')) \n",
        "    out = np.array(data).astype(np.float)\n",
        "    out[:,-1][out[:,-1] == -1] = 0 # change label to 0,1\n",
        "  return out\n",
        "\n",
        "def add_col_1 (data):\n",
        "    col = np.ones(len(data)).reshape(len(data),1)\n",
        "    out = np.hstack((data[:,:4], col, data[:,4:]))\n",
        "    return out\n",
        "\n",
        "#--------------------------------Preparing data------------------------------ \n",
        "\n",
        "train_data = add_col_1(read_csv('train.csv'))\n",
        "test_data = add_col_1(read_csv('test.csv'))\n",
        "\n",
        "train_len = len(train_data)\n",
        "test_len = len(test_data)\n",
        "dim_s = len(train_data[0]) -1 # sample dim\n",
        "train_labels = np.array([row[-1] for row in train_data ])\n",
        "test_labels = np.array([row[-1] for row in test_data ])\n",
        "train_data_unlabeled = [np.array(row[0:dim_s],ndmin =2) for row in train_data]\n",
        "test_data_unlabeled = [np.array(row[0:dim_s],ndmin =2) for row in test_data]\n",
        "\n",
        "train_data_array = np.array(train_data_unlabeled)\n",
        "test_data_array = np.array(test_data_unlabeled)\n",
        "print('train data dimension:', train_data_array.shape)\n",
        "print('test data dimension:', test_data_array.shape)"
      ],
      "execution_count": 59,
      "outputs": [
        {
          "output_type": "stream",
          "text": [
            "train data dimension: (872, 1, 5)\n",
            "test data dimension: (500, 1, 5)\n"
          ],
          "name": "stdout"
        }
      ]
    },
    {
      "cell_type": "code",
      "metadata": {
        "id": "Vb8byWA_JkO-",
        "colab_type": "code",
        "colab": {}
      },
      "source": [
        "width = 100    # change hiden layer width here"
      ],
      "execution_count": 0,
      "outputs": []
    },
    {
      "cell_type": "code",
      "metadata": {
        "id": "qDzXWnvwJkPC",
        "colab_type": "code",
        "colab": {}
      },
      "source": [
        "#3 layers, adjust the depth by adding more dense layer\n",
        "# change activation and initializer here\n",
        "# change to tanh and glorot_normal\n",
        "model = keras.Sequential([\n",
        "    keras.layers.Flatten(input_shape=(1,5)),\n",
        "    keras.layers.Dense(width, activation=tf.nn.relu, kernel_initializer= 'he_normal', \n",
        "                bias_initializer='zeros'),\n",
        "    keras.layers.Dense(width, activation=tf.nn.relu, kernel_initializer= 'he_normal',\n",
        "                bias_initializer='zeros'),\n",
        "    # keras.layers.Dense(width, activation=tf.nn.relu, kernel_initializer= 'he_normal', \n",
        "    #             bias_initializer='zeros'),\n",
        "    # keras.layers.Dense(width, activation=tf.nn.relu, kernel_initializer= 'he_normal',\n",
        "    #             bias_initializer='zeros'),\n",
        "    # keras.layers.Dense(width, activation=tf.nn.relu, kernel_initializer= 'he_normal', \n",
        "    #             bias_initializer='zeros'),\n",
        "    # keras.layers.Dense(width, activation=tf.nn.relu, kernel_initializer= 'he_normal',\n",
        "    #             bias_initializer='zeros'),\n",
        "    # keras.layers.Dense(width, activation=tf.nn.relu, kernel_initializer= 'he_normal', \n",
        "    #             bias_initializer='zeros'),\n",
        "    # keras.layers.Dense(width, activation=tf.nn.relu, kernel_initializer= 'he_normal',\n",
        "    #             bias_initializer='zeros'),                        \n",
        "    keras.layers.Dense(2, activation=tf.nn.softmax)  \n",
        "])"
      ],
      "execution_count": 0,
      "outputs": []
    },
    {
      "cell_type": "code",
      "metadata": {
        "id": "GCkSx2r3JkPG",
        "colab_type": "code",
        "colab": {
          "base_uri": "https://localhost:8080/",
          "height": 728
        },
        "outputId": "d9f986fb-4535-4e7b-9d2d-ee63c5d99c80"
      },
      "source": [
        "# compile model, optimizer is adam\n",
        "model.compile(optimizer='adam', \n",
        "              loss='sparse_categorical_crossentropy',\n",
        "              metrics=['accuracy'])\n",
        "model.fit(train_data_array, train_labels, epochs= 20)"
      ],
      "execution_count": 115,
      "outputs": [
        {
          "output_type": "stream",
          "text": [
            "Epoch 1/20\n",
            "28/28 [==============================] - 0s 1ms/step - loss: 0.4142 - accuracy: 0.8498\n",
            "Epoch 2/20\n",
            "28/28 [==============================] - 0s 2ms/step - loss: 0.0192 - accuracy: 0.9966\n",
            "Epoch 3/20\n",
            "28/28 [==============================] - 0s 1ms/step - loss: 0.0099 - accuracy: 1.0000\n",
            "Epoch 4/20\n",
            "28/28 [==============================] - 0s 2ms/step - loss: 0.0067 - accuracy: 1.0000\n",
            "Epoch 5/20\n",
            "28/28 [==============================] - 0s 1ms/step - loss: 0.0055 - accuracy: 1.0000\n",
            "Epoch 6/20\n",
            "28/28 [==============================] - 0s 1ms/step - loss: 0.0042 - accuracy: 1.0000\n",
            "Epoch 7/20\n",
            "28/28 [==============================] - 0s 1ms/step - loss: 0.0037 - accuracy: 1.0000\n",
            "Epoch 8/20\n",
            "28/28 [==============================] - 0s 2ms/step - loss: 0.0030 - accuracy: 1.0000\n",
            "Epoch 9/20\n",
            "28/28 [==============================] - 0s 1ms/step - loss: 0.0025 - accuracy: 1.0000\n",
            "Epoch 10/20\n",
            "28/28 [==============================] - 0s 2ms/step - loss: 0.0024 - accuracy: 1.0000\n",
            "Epoch 11/20\n",
            "28/28 [==============================] - 0s 2ms/step - loss: 0.0020 - accuracy: 1.0000\n",
            "Epoch 12/20\n",
            "28/28 [==============================] - 0s 2ms/step - loss: 0.0016 - accuracy: 1.0000\n",
            "Epoch 13/20\n",
            "28/28 [==============================] - 0s 2ms/step - loss: 0.0014 - accuracy: 1.0000\n",
            "Epoch 14/20\n",
            "28/28 [==============================] - 0s 1ms/step - loss: 0.0012 - accuracy: 1.0000\n",
            "Epoch 15/20\n",
            "28/28 [==============================] - 0s 2ms/step - loss: 0.0011 - accuracy: 1.0000\n",
            "Epoch 16/20\n",
            "28/28 [==============================] - 0s 2ms/step - loss: 9.9717e-04 - accuracy: 1.0000\n",
            "Epoch 17/20\n",
            "28/28 [==============================] - 0s 2ms/step - loss: 9.6168e-04 - accuracy: 1.0000\n",
            "Epoch 18/20\n",
            "28/28 [==============================] - 0s 2ms/step - loss: 8.1660e-04 - accuracy: 1.0000\n",
            "Epoch 19/20\n",
            "28/28 [==============================] - 0s 1ms/step - loss: 7.4351e-04 - accuracy: 1.0000\n",
            "Epoch 20/20\n",
            "28/28 [==============================] - 0s 2ms/step - loss: 6.7858e-04 - accuracy: 1.0000\n"
          ],
          "name": "stdout"
        },
        {
          "output_type": "execute_result",
          "data": {
            "text/plain": [
              "<tensorflow.python.keras.callbacks.History at 0x7f7084fc0080>"
            ]
          },
          "metadata": {
            "tags": []
          },
          "execution_count": 115
        }
      ]
    },
    {
      "cell_type": "code",
      "metadata": {
        "id": "05R817iEJkPO",
        "colab_type": "code",
        "colab": {
          "base_uri": "https://localhost:8080/",
          "height": 35
        },
        "outputId": "e7be18cd-dd0f-44f5-a1df-da64f883acd4"
      },
      "source": [
        "# prediction\n",
        "test_loss, test_acc = model.evaluate(test_data_array, test_labels)"
      ],
      "execution_count": 116,
      "outputs": [
        {
          "output_type": "stream",
          "text": [
            "16/16 [==============================] - 0s 1ms/step - loss: 8.2282e-04 - accuracy: 1.0000\n"
          ],
          "name": "stdout"
        }
      ]
    }
  ]
}